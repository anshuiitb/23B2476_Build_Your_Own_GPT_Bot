{
 "cells": [
  {
   "cell_type": "code",
   "execution_count": 5,
   "id": "c9b95ef9",
   "metadata": {},
   "outputs": [],
   "source": [
    "import pandas as pd\n",
    "import re\n",
    "import torch\n",
    "from torch import nn\n",
    "from torch.utils.data import Dataset, DataLoader\n",
    "from sklearn.model_selection import train_test_split\n",
    "from sklearn.preprocessing import LabelEncoder\n",
    "from collections import Counter\n",
    "from torch.nn.utils.rnn import pad_sequence\n",
    "\n",
    "# Load and clean data\n",
    "df = pd.read_csv(\"IMDB_Dataset.csv\")\n",
    "\n",
    "def clean_text(text):\n",
    "    text = re.sub(r\"<.*?>\", \"\", text)\n",
    "    text = re.sub(r\"[^a-zA-Z\\s]\", \"\", text)\n",
    "    return text.lower()\n",
    "\n",
    "df[\"review\"] = df[\"review\"].apply(clean_text)\n",
    "\n",
    "# Encode labels\n",
    "le = LabelEncoder()\n",
    "df[\"sentiment\"] = le.fit_transform(df[\"sentiment\"])  # 0 = negative, 1 = positive\n"
   ]
  },
  {
   "cell_type": "code",
   "execution_count": 6,
   "id": "25f8403b",
   "metadata": {},
   "outputs": [],
   "source": [
    "tokenized = df[\"review\"].apply(lambda x: x.split())\n",
    "\n",
    "def build_vocab(tokenized_texts, min_freq=2):\n",
    "    counter = Counter()\n",
    "    for tokens in tokenized_texts:\n",
    "        counter.update(tokens)\n",
    "    vocab = {\"<pad>\": 0, \"<unk>\": 1}\n",
    "    for word, freq in counter.items():\n",
    "        if freq >= min_freq:\n",
    "            vocab[word] = len(vocab)\n",
    "    return vocab\n",
    "\n",
    "vocab = build_vocab(tokenized)\n"
   ]
  },
  {
   "cell_type": "code",
   "execution_count": 7,
   "id": "7c71cf15",
   "metadata": {},
   "outputs": [],
   "source": [
    "def numericalize(tokens, vocab):\n",
    "    return [vocab.get(token, vocab[\"<unk>\"]) for token in tokens]\n",
    "\n",
    "class IMDBDataset(Dataset):\n",
    "    def __init__(self, texts, labels, vocab):\n",
    "        self.texts = [torch.tensor(numericalize(t.split(), vocab), dtype=torch.long) for t in texts]\n",
    "        self.labels = torch.tensor(labels.values, dtype=torch.float32)\n",
    "\n",
    "    def __len__(self):\n",
    "        return len(self.labels)\n",
    "\n",
    "    def __getitem__(self, idx):\n",
    "        return self.texts[idx], self.labels[idx]\n",
    "\n",
    "def collate_fn(batch):\n",
    "    texts, labels = zip(*batch)\n",
    "    padded = pad_sequence(texts, batch_first=True, padding_value=vocab[\"<pad>\"])\n",
    "    return padded, torch.tensor(labels)\n"
   ]
  },
  {
   "cell_type": "code",
   "execution_count": 8,
   "id": "ea312210",
   "metadata": {},
   "outputs": [],
   "source": [
    "X_train, X_test, y_train, y_test = train_test_split(df[\"review\"], df[\"sentiment\"], test_size=0.2)\n",
    "\n",
    "train_ds = IMDBDataset(X_train, y_train, vocab)\n",
    "test_ds = IMDBDataset(X_test, y_test, vocab)\n",
    "\n",
    "train_dl = DataLoader(train_ds, batch_size=64, shuffle=True, collate_fn=collate_fn)\n",
    "test_dl = DataLoader(test_ds, batch_size=64, shuffle=False, collate_fn=collate_fn)\n"
   ]
  },
  {
   "cell_type": "code",
   "execution_count": 9,
   "id": "eeac64a3",
   "metadata": {},
   "outputs": [],
   "source": [
    "class SentimentLSTM(nn.Module):\n",
    "    def __init__(self, vocab_size, embedding_dim, hidden_dim):\n",
    "        super().__init__()\n",
    "        self.embedding = nn.Embedding(vocab_size, embedding_dim, padding_idx=0)\n",
    "        self.lstm = nn.LSTM(embedding_dim, hidden_dim, batch_first=True)\n",
    "        self.fc = nn.Linear(hidden_dim, 1)\n",
    "        self.sigmoid = nn.Sigmoid()\n",
    "\n",
    "    def forward(self, x):\n",
    "        embeds = self.embedding(x)\n",
    "        _, (hidden, _) = self.lstm(embeds)\n",
    "        return self.sigmoid(self.fc(hidden[-1])).squeeze()\n"
   ]
  },
  {
   "cell_type": "code",
   "execution_count": 11,
   "id": "0d066e7f",
   "metadata": {},
   "outputs": [
    {
     "name": "stdout",
     "output_type": "stream",
     "text": [
      "Input shape: torch.Size([64, 748])\n",
      "Label shape: torch.Size([64])\n",
      "Output shape: torch.Size([64])\n",
      "Output values: tensor([0.5089, 0.5089, 0.5089, 0.5089, 0.5089], grad_fn=<SliceBackward0>)\n"
     ]
    }
   ],
   "source": [
    "for inputs, labels in train_dl:\n",
    "    print(\"Input shape:\", inputs.shape)\n",
    "    print(\"Label shape:\", labels.shape)\n",
    "    output = model(inputs)\n",
    "    print(\"Output shape:\", output.shape)\n",
    "    print(\"Output values:\", output[:5])\n",
    "    break\n"
   ]
  },
  {
   "cell_type": "code",
   "execution_count": 12,
   "id": "96fb94c6",
   "metadata": {},
   "outputs": [
    {
     "name": "stdout",
     "output_type": "stream",
     "text": [
      "{0, 1}\n",
      "tensor([1., 1., 0., 1., 0.])\n"
     ]
    }
   ],
   "source": [
    "print(set(y_train))\n",
    "print(train_ds.labels[:5])\n"
   ]
  },
  {
   "cell_type": "code",
   "execution_count": 13,
   "id": "210f3329",
   "metadata": {},
   "outputs": [
    {
     "name": "stdout",
     "output_type": "stream",
     "text": [
      "Epoch 1 Loss: 0.6931\n",
      "Epoch 2 Loss: 0.6927\n",
      "Epoch 3 Loss: 0.6911\n",
      "Epoch 4 Loss: 0.6912\n",
      "Epoch 5 Loss: 0.6884\n"
     ]
    }
   ],
   "source": [
    "device = torch.device(\"cpu\")\n",
    "model = SentimentLSTM(vocab_size=len(vocab), embedding_dim=128, hidden_dim=128).to(device)\n",
    "\n",
    "criterion = nn.BCELoss()\n",
    "optimizer = torch.optim.Adam(model.parameters(), lr=0.001)\n",
    "\n",
    "for epoch in range(5):\n",
    "    model.train()\n",
    "    total_loss = 0\n",
    "    for inputs, labels in train_dl:\n",
    "        inputs, labels = inputs.to(device), labels.to(device)\n",
    "        optimizer.zero_grad()\n",
    "        output = model(inputs)\n",
    "        loss = criterion(output, labels)\n",
    "        loss.backward()\n",
    "        optimizer.step()\n",
    "        total_loss += loss.item()\n",
    "    print(f\"Epoch {epoch+1} Loss: {total_loss / len(train_dl):.4f}\")\n"
   ]
  },
  {
   "cell_type": "code",
   "execution_count": 14,
   "id": "b3218389",
   "metadata": {},
   "outputs": [
    {
     "name": "stdout",
     "output_type": "stream",
     "text": [
      "Test Accuracy: 0.49\n"
     ]
    }
   ],
   "source": [
    "model.eval()\n",
    "correct = 0\n",
    "total = 0\n",
    "\n",
    "with torch.no_grad():\n",
    "    for inputs, labels in test_dl:\n",
    "        inputs, labels = inputs.to(device), labels.to(device)\n",
    "        output = model(inputs)\n",
    "        preds = (output >= 0.5).float()\n",
    "        correct += (preds == labels).sum().item()\n",
    "        total += labels.size(0)\n",
    "\n",
    "print(f\"Test Accuracy: {correct / total:.2f}\")\n"
   ]
  },
  {
   "cell_type": "code",
   "execution_count": 15,
   "id": "872f15df",
   "metadata": {},
   "outputs": [
    {
     "name": "stdout",
     "output_type": "stream",
     "text": [
      "positive\n"
     ]
    }
   ],
   "source": [
    "def predict_sentiment(text):\n",
    "    text = clean_text(text)\n",
    "    tokens = numericalize(text.split(), vocab)\n",
    "    input_tensor = torch.tensor(tokens, dtype=torch.long).unsqueeze(0)\n",
    "    with torch.no_grad():\n",
    "        output = model(input_tensor)\n",
    "        return \"positive\" if output.item() >= 0.5 else \"negative\"\n",
    "\n",
    "# Try it\n",
    "print(predict_sentiment(\"The movie was absolutely wonderful and emotional.\"))\n"
   ]
  },
  {
   "cell_type": "code",
   "execution_count": null,
   "id": "519e8f50",
   "metadata": {},
   "outputs": [],
   "source": []
  }
 ],
 "metadata": {
  "kernelspec": {
   "display_name": "Python 3",
   "language": "python",
   "name": "python3"
  },
  "language_info": {
   "codemirror_mode": {
    "name": "ipython",
    "version": 3
   },
   "file_extension": ".py",
   "mimetype": "text/x-python",
   "name": "python",
   "nbconvert_exporter": "python",
   "pygments_lexer": "ipython3",
   "version": "3.12.0"
  }
 },
 "nbformat": 4,
 "nbformat_minor": 5
}
